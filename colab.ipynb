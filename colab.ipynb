{
 "cells": [
  {
   "cell_type": "markdown",
   "metadata": {},
   "source": [
    "## **<h4 style='text-align: center; color:red '>Assignment 2</h4>**\n"
   ]
  },
  {
   "cell_type": "markdown",
   "metadata": {},
   "source": [
    "**<h3 style='text-align: left; color:red '>Team Info</h3>**\n",
    "- **Name1:** Khaled Mohamed Mohamed Ahmed\n",
    "\n",
    "  **ID1:** 20010528\n",
    "\n",
    "- **Name2:** Mohamed EL-Nady mohamed Gomaa\n",
    "\n",
    "  **ID2:** 20011513\n",
    "\n",
    "- **Name3:** Mohamed Aly Hassan Mahmoud\n",
    "\n",
    "  **ID3:**   20011662"
   ]
  },
  {
   "cell_type": "markdown",
   "metadata": {},
   "source": [
    "---"
   ]
  },
  {
   "cell_type": "markdown",
   "metadata": {},
   "source": [
    "# **The Functions**"
   ]
  },
  {
   "cell_type": "markdown",
   "metadata": {},
   "source": [
    "#### **The liberaries Used**"
   ]
  },
  {
   "cell_type": "code",
   "execution_count": 22,
   "metadata": {},
   "outputs": [],
   "source": [
    "import os\n",
    "import numpy as np\n",
    "from sklearn.cluster import KMeans\n",
    "from sklearn.decomposition import PCA\n",
    "from sklearn.preprocessing import normalize\n",
    "from sklearn.metrics import silhouette_score"
   ]
  },
  {
   "cell_type": "markdown",
   "metadata": {},
   "source": [
    "#### **Read the data**"
   ]
  },
  {
   "cell_type": "markdown",
   "metadata": {},
   "source": [
    "- **Reading dataset, Dividing it to train and test, assigning labels according to the _activity_**\n",
    "\n",
    "- **Calculating the mean vectors approach and flattening the data**"
   ]
  },
  {
   "cell_type": "code",
   "execution_count": 23,
   "metadata": {},
   "outputs": [],
   "source": [
    "# Function for reading data\n",
    "def read_data(dataset_folder):\n",
    "    # Initialize lists to store data\n",
    "    train_mean_vectors = []\n",
    "    test_mean_vectors = []\n",
    "    train_flattened_features = []\n",
    "    test_flattened_features = []\n",
    "    train_labels = []\n",
    "    test_labels = []\n",
    "    # Loop through each activity folder\n",
    "    for activity_folder in sorted(os.listdir(dataset_folder)):\n",
    "        activity_path = os.path.join(dataset_folder, activity_folder)\n",
    "        if os.path.isdir(activity_path):\n",
    "            activity_label = activity_folder\n",
    "            # Loop through each subject folder\n",
    "            for subject_folder in sorted(os.listdir(activity_path)):\n",
    "                subject_path = os.path.join(activity_path, subject_folder)\n",
    "                if os.path.isdir(subject_path):\n",
    "                    # Loop through each segment file\n",
    "                    segments = sorted(os.listdir(subject_path))\n",
    "                    for i, segment_file in enumerate(segments):\n",
    "                        segment_path = os.path.join(subject_path, segment_file)\n",
    "                        if segment_path.endswith(\".txt\"):\n",
    "                            # Read data from the segment file\n",
    "                            segment_data = np.loadtxt(segment_path, delimiter=\",\")\n",
    "                            # Calculate mean for each column\n",
    "                            mean_vector = np.mean(segment_data, axis=0)\n",
    "                            flattened_feature = segment_data.flatten()\n",
    "                            # Decide if the segment is for training or testing\n",
    "                            if i < 48:\n",
    "                                train_mean_vectors.append(mean_vector)\n",
    "                                train_flattened_features.append(flattened_feature)\n",
    "                                train_labels.append(activity_label)\n",
    "                            else:\n",
    "                                test_mean_vectors.append(mean_vector)\n",
    "                                test_flattened_features.append(flattened_feature)\n",
    "                                test_labels.append(activity_label)\n",
    "    # Convert lists to numpy arrays\n",
    "    train_mean_vectors = np.array(train_mean_vectors)\n",
    "    test_mean_vectors = np.array(test_mean_vectors)\n",
    "    train_flattened_features = np.array(train_flattened_features)\n",
    "    test_flattened_features = np.array(test_flattened_features)\n",
    "    train_labels = np.array(train_labels)\n",
    "    test_labels = np.array(test_labels)\n",
    "    \n",
    "    return train_mean_vectors, test_mean_vectors, train_flattened_features, test_flattened_features, train_labels, test_labels"
   ]
  },
  {
   "cell_type": "markdown",
   "metadata": {},
   "source": [
    "#### **Kmean function for clustring**"
   ]
  },
  {
   "cell_type": "code",
   "execution_count": 24,
   "metadata": {},
   "outputs": [],
   "source": [
    "#////////////////kmean function//////////////////////////////\n",
    "def kmeans_np(data, k, max_iters=300, tol=1e-4):\n",
    "    # Initialize centroids by randomly sampling from data\n",
    "    centroids = data[np.random.choice(len(data), size=k, replace=False)]\n",
    "    unique_centroids = np.unique(centroids, axis=0)\n",
    "    while len(unique_centroids) != k:\n",
    "            centroids = data[np.random.choice(len(data), size=k, replace=False)]\n",
    "            unique_centroids = np.unique(centroids, axis=0)\n",
    "    for _ in range(max_iters):\n",
    "        # Calculate distances from each data point to each centroid\n",
    "        distances = np.linalg.norm(data[:, np.newaxis] - centroids, axis=2)\n",
    "        \n",
    "        # Assign each data point to the closest centroid\n",
    "        labels = np.argmin(distances, axis=1)\n",
    "        \n",
    "        # Update centroids\n",
    "        new_centroids = np.array([data[labels == i].mean(axis=0) for i in range(k)])\n",
    "    \n",
    "        # Check for convergence\n",
    "        if np.linalg.norm(new_centroids - centroids) < tol:\n",
    "            break\n",
    "        \n",
    "        centroids = new_centroids\n",
    "    \n",
    "    return labels, centroids"
   ]
  },
  {
   "cell_type": "markdown",
   "metadata": {},
   "source": [
    "**Performing PCA dimensionality reduction on flattened data**"
   ]
  },
  {
   "cell_type": "code",
   "execution_count": 25,
   "metadata": {},
   "outputs": [],
   "source": [
    "#////////////////Pca for the flattened data//////////////////\n",
    "def perform_PCA(train_flattened_features):\n",
    "    pca = PCA(n_components=45)\n",
    "    train_reduced__flattened_features = pca.fit_transform(train_flattened_features)\n",
    "    return train_reduced__flattened_features"
   ]
  },
  {
   "cell_type": "markdown",
   "metadata": {},
   "source": [
    "#### **Normalized cut algorithm**"
   ]
  },
  {
   "cell_type": "markdown",
   "metadata": {},
   "source": [
    "**Fuction to construct the similarity matrix by k-neightbour way**"
   ]
  },
  {
   "cell_type": "code",
   "execution_count": 26,
   "metadata": {},
   "outputs": [],
   "source": [
    "#////////////////making the similarity matrix//////////////////\n",
    "def construct_similarity_graph(data, k_neighbors=80):\n",
    "    n_samples = len(data)\n",
    "    similarity_graph = np.zeros((n_samples, n_samples), dtype=float)\n",
    "\n",
    "    for i in range(n_samples):\n",
    "        distances = np.linalg.norm(data - data[i], axis=1)\n",
    "        indices = np.argsort(distances)[:k_neighbors+1]  # Include each point as its own neighbor\n",
    "        similarity_graph[i, indices[1:]] = 1\n",
    "\n",
    "    similarity_graph = (similarity_graph + similarity_graph.T) > 0  # Make the graph undirected\n",
    "    return similarity_graph"
   ]
  },
  {
   "cell_type": "markdown",
   "metadata": {},
   "source": [
    "**Normalized cut algorithm for clusrtring**"
   ]
  },
  {
   "cell_type": "code",
   "execution_count": 27,
   "metadata": {},
   "outputs": [],
   "source": [
    "#////////////////N-cut function////////////////////////////////\n",
    "def kways_normalized_cut(data, K=19):\n",
    "    similarity_graph = construct_similarity_graph(data)\n",
    "    \n",
    "    degree_matrix = np.diag(np.sum(similarity_graph, axis=1))\n",
    "    laplacian_matrix = degree_matrix - similarity_graph\n",
    "    laplacian_matrix = np.linalg.inv(degree_matrix).dot(laplacian_matrix)\n",
    "    eigenvalues, eigenvectors = np.linalg.eigh(laplacian_matrix)\n",
    "    sorted_indices = np.argsort(eigenvalues)\n",
    "    eigenvalues = eigenvalues[sorted_indices]\n",
    "    eigenvectors = eigenvectors[:, sorted_indices]\n",
    "    U = normalize(eigenvectors)\n",
    "    Y = U[:, :K]\n",
    "    kmeans = KMeans(n_clusters=K, random_state=42).fit(Y)\n",
    "    #labels, centroids = kmeans_np(Y,K)\n",
    "    return kmeans.labels_"
   ]
  },
  {
   "cell_type": "markdown",
   "metadata": {},
   "source": [
    "#### **DBSCAN clustering algorithm implementation**"
   ]
  },
  {
   "cell_type": "code",
   "execution_count": 28,
   "metadata": {},
   "outputs": [],
   "source": [
    "def euclidean_distance(x1, x2):\n",
    "    return np.linalg.norm(x1 - x2)\n",
    "\n",
    "def range_query(data, point_index, eps, distance_fn):\n",
    "    neighbors = []\n",
    "    for i, point in enumerate(data):\n",
    "        if i != point_index and distance_fn(data[point_index], point) <= eps:\n",
    "            neighbors.append(i)\n",
    "    return neighbors\n",
    "\n",
    "def dbscan(data, eps, min_pts, distance_fn=euclidean_distance):\n",
    "    labels = np.zeros(len(data), dtype=int)  # Initialize labels with zeros (noise labeled as 0)\n",
    "    cluster_id = 0\n",
    "\n",
    "    for i, point in enumerate(data):\n",
    "        if labels[i] != 0:  # Skip points already processed or assigned to a cluster\n",
    "            continue\n",
    "\n",
    "        neighbors = range_query(data, i, eps, distance_fn)\n",
    "\n",
    "        if len(neighbors) < min_pts:  # Mark point as noise if it doesn't have enough neighbors\n",
    "            labels[i] = 0\n",
    "            continue\n",
    "\n",
    "        cluster_id += 1\n",
    "        labels[i] = cluster_id\n",
    "\n",
    "        for neighbor in neighbors:\n",
    "            if labels[neighbor] == 0:  # Process unprocessed neighbors\n",
    "                labels[neighbor] = cluster_id\n",
    "\n",
    "            if labels[neighbor] != 0:  # Skip points already assigned to a cluster\n",
    "                continue\n",
    "\n",
    "            sub_neighbors = range_query(data, neighbor, eps, distance_fn)\n",
    "\n",
    "            if len(sub_neighbors) >= min_pts:  # Expand cluster if neighbor is core point\n",
    "                neighbors.extend(sub_neighbors)\n",
    "\n",
    "    return labels"
   ]
  },
  {
   "cell_type": "markdown",
   "metadata": {},
   "source": [
    "**Grid search to find the best parameters for DBSCAN according to best _sillhouette score_**"
   ]
  },
  {
   "cell_type": "code",
   "execution_count": 29,
   "metadata": {},
   "outputs": [],
   "source": [
    "def grid_search_dbscan(data, eps_range, min_pts_range):\n",
    "    best_score = -1\n",
    "    best_eps = None\n",
    "    best_min_pts = None\n",
    "\n",
    "    for eps in eps_range:\n",
    "        for min_pts in min_pts_range:\n",
    "            labels = dbscan(data, eps, min_pts)\n",
    "            score = silhouette_score(data, labels)\n",
    "            print(\"grid search loop\")\n",
    "            if score > best_score:\n",
    "                best_score = score\n",
    "                best_eps = eps\n",
    "                best_min_pts = min_pts\n",
    "    print(f\"best eps:{best_eps} and best min pts{best_min_pts}\")\n",
    "    print(\"grid search terminated\")\n",
    "    return best_eps, best_min_pts"
   ]
  },
  {
   "cell_type": "markdown",
   "metadata": {},
   "source": [
    "### **Evaluation Part**"
   ]
  },
  {
   "cell_type": "markdown",
   "metadata": {},
   "source": [
    "**Function implemented to calculate the entropy to be used in evalution (lesser the better)**"
   ]
  },
  {
   "cell_type": "code",
   "execution_count": 30,
   "metadata": {},
   "outputs": [],
   "source": [
    "#////////////////Entrophy function////////////////////////////////\n",
    "def Entropy(clusters, ground_truth):\n",
    "    n_samples = len(ground_truth)\n",
    "    n_clusters = len(set(clusters))\n",
    "    cluster_indices = [np.where(clusters == i)[0] for i in range(n_clusters)]\n",
    "    cluster_ground_truth = [ground_truth[indices] for indices in cluster_indices]\n",
    "\n",
    "    entropy_score = 0.0\n",
    "    for cluster_gt in cluster_ground_truth:\n",
    "        cluster_size = len(cluster_gt)\n",
    "        partition_counts = np.zeros(max(ground_truth) + 1)  # Initialize counts for each partition\n",
    "        for partition in cluster_gt:\n",
    "            partition_counts[partition] += 1\n",
    "        partition_probabilities = partition_counts / cluster_size\n",
    "        partition_probabilities[partition_probabilities == 0] = 1e-10  # Replace zero probabilities with a small epsilon\n",
    "        cluster_entropy = -np.sum(partition_probabilities * np.log2(partition_probabilities))\n",
    "        entropy_score += (cluster_size / n_samples) * cluster_entropy\n",
    "\n",
    "    return entropy_score"
   ]
  },
  {
   "cell_type": "markdown",
   "metadata": {},
   "source": [
    "**Function used to calculate the precision and the recall and the F1 score to evaluate (higher is better)**"
   ]
  },
  {
   "cell_type": "code",
   "execution_count": 31,
   "metadata": {},
   "outputs": [],
   "source": [
    "def precision_recall_f_measure(clusters, ground_truth):\n",
    "    cluster_indices = np.unique(clusters)\n",
    "    num_clusters = len(cluster_indices)\n",
    "    precision_sum = 0\n",
    "    recall_sum = 0\n",
    "    f_measure_sum = 0\n",
    "    \n",
    "    for cluster_index in cluster_indices:\n",
    "        # Find indices of samples in the cluster\n",
    "        indices = np.where(clusters == cluster_index)[0]\n",
    "\n",
    "        # Get ground truth labels for the cluster\n",
    "        cluster_ground_truth = ground_truth[indices]\n",
    "\n",
    "        # Calculate precision\n",
    "        cluster_size = len(cluster_ground_truth)\n",
    "        unique_labels, counts = np.unique(cluster_ground_truth, return_counts=True)\n",
    "        majority_label_count = np.max(counts) if len(counts) > 0 else 0\n",
    "        preci = majority_label_count / cluster_size if cluster_size > 0 else 0\n",
    "        precision_sum += preci\n",
    "\n",
    "        # Calculate recall\n",
    "        majority_label = unique_labels[np.argmax(counts)] if len(unique_labels) > 0 else None\n",
    "        mji = np.sum(ground_truth == majority_label)\n",
    "        recalli = majority_label_count / mji if mji > 0 else 0\n",
    "        recall_sum += recalli\n",
    "\n",
    "        # Calculate F-measure\n",
    "        f_measure = 2 * preci * recalli / (preci + recalli) if (preci + recalli) > 0 else 0\n",
    "        f_measure_sum += f_measure\n",
    "\n",
    "    # Calculate mean precision, recall, and F-measure\n",
    "    precision = precision_sum / num_clusters\n",
    "    recall = recall_sum / num_clusters\n",
    "    f_measure = f_measure_sum / num_clusters\n",
    "\n",
    "    return precision, recall, f_measure"
   ]
  },
  {
   "cell_type": "markdown",
   "metadata": {},
   "source": [
    "**Function to call the evaluations methods**"
   ]
  },
  {
   "cell_type": "code",
   "execution_count": 32,
   "metadata": {},
   "outputs": [],
   "source": [
    "#///////////////////////////Evaluation/////////////////////////////\n",
    "def Evaluation(clusters, ground_truth):\n",
    "    conditional_entrophy = Entropy(clusters,ground_truth)\n",
    "    precision, recall, f_measure = precision_recall_f_measure(clusters, ground_truth)\n",
    "    return precision, recall, f_measure , conditional_entrophy"
   ]
  },
  {
   "cell_type": "markdown",
   "metadata": {},
   "source": [
    "**Function used to convert the labels to numeric**"
   ]
  },
  {
   "cell_type": "code",
   "execution_count": 33,
   "metadata": {},
   "outputs": [],
   "source": [
    "#////////////////function to convert labels letters to numbers to can verify////////////////////////////////\n",
    "def convert_labels_to_numeric(labels):\n",
    "    # Create a dictionary to map class names to numerical labels\n",
    "    label_map = {}\n",
    "    numeric_labels = []\n",
    "    count = 0\n",
    "\n",
    "    # Iterate over the test labels\n",
    "    for label in labels:\n",
    "        # Check if the label is already in the mapping dictionary\n",
    "        if label not in label_map:\n",
    "            # If not, assign it a new numerical label\n",
    "            label_map[label] = count\n",
    "            count += 1\n",
    "        # Append the numerical label to the list\n",
    "        numeric_labels.append(label_map[label])\n",
    "    \n",
    "    return numeric_labels"
   ]
  },
  {
   "cell_type": "markdown",
   "metadata": {},
   "source": [
    "**Function to print the evaluation measures**"
   ]
  },
  {
   "cell_type": "code",
   "execution_count": 34,
   "metadata": {},
   "outputs": [],
   "source": [
    "#////////////////function to print all evalutions////////////////////////////////\n",
    "def print_eval(entrophy=0,precision=0,recall=0,f_measure=0,symbol=\"\"):\n",
    "    print(f\"Evaluation for {symbol}:\")\n",
    "    print(f\"(Precision:{precision}) , (Recall:{recall}) , (F1-score:{f_measure}) , (Entropy:{entrophy})\")\n",
    "    print()"
   ]
  },
  {
   "cell_type": "markdown",
   "metadata": {},
   "source": [
    "# **Start Main**"
   ]
  },
  {
   "cell_type": "markdown",
   "metadata": {},
   "source": [
    "#### **Getting the data ready for the clustring**"
   ]
  },
  {
   "cell_type": "code",
   "execution_count": 35,
   "metadata": {},
   "outputs": [],
   "source": [
    "#~~~~~~~~~~~~~~~~~~~~~~~~~~~Main~~~~~~~~~~~~~~~~~~~~~~~~~~~~~~~\n",
    "\n",
    "# Folder containing the dataset\n",
    "dataset_folder = 'daily+and+sports+activities\\data'\n",
    "k_values = [8, 13, 19, 28, 38]\n",
    "# Read data\n",
    "train_mean_vectors, test_mean_vectors, train_flattened_features, test_flattened_features, train_labels, test_labels = read_data(dataset_folder)\n",
    "# Perform PCA for dimensionality reduction\n",
    "train_reduced_flattened_features = perform_PCA(train_flattened_features)\n",
    "test_reduced_flattened_features = perform_PCA(test_flattened_features)\n",
    "\n",
    "# Specify the K values to be used\n",
    "k_values = [8, 13, 19, 28, 38]\n",
    "test_labels = np.array(convert_labels_to_numeric(test_labels))\n",
    "train_labels = np.array(convert_labels_to_numeric(train_labels))\n",
    "# Perform K-Means clustering for each K value using mean vectors"
   ]
  },
  {
   "cell_type": "markdown",
   "metadata": {},
   "source": [
    "#### **Making clustring on the training data using three algorithm**"
   ]
  },
  {
   "cell_type": "markdown",
   "metadata": {},
   "source": [
    "- **Kmean clustring on k = {8, 13, 19, 28, 38} on mean vector and flatten data and collect the evaluation of train set**"
   ]
  },
  {
   "cell_type": "code",
   "execution_count": 36,
   "metadata": {},
   "outputs": [
    {
     "name": "stdout",
     "output_type": "stream",
     "text": [
      "######################Train set#################################\n",
      "\n",
      "--------------Clustering using Kmeans --> mean vectors--------------------\n",
      "Cluster labels for K=8:\n",
      "unique labels :8\n",
      "[7 7 7 ... 6 6 0]\n",
      "\n",
      "Evaluation for Kmeans_K1:\n",
      "(Precision:0.5638419486863786) , (Recall:0.7613932291666667) , (F1-score:0.5575149565580718) , (Entropy:2.5118542564607194)\n",
      "\n",
      "Cluster labels for K=13:\n",
      "unique labels :13\n",
      "[6 6 6 ... 3 4 5]\n",
      "\n",
      "Evaluation for Kmeans_K1:\n",
      "(Precision:0.5340920464476415) , (Recall:0.6362179487179488) , (F1-score:0.5428892211852374) , (Entropy:2.068758154899203)\n",
      "\n",
      "Cluster labels for K=19:\n",
      "unique labels :19\n",
      "[14 14 14 ... 17  3  8]\n",
      "\n",
      "Evaluation for Kmeans_K1:\n",
      "(Precision:0.505095673497104) , (Recall:0.4102247807017544) , (F1-score:0.39852929222588307) , (Entropy:2.0780735774134187)\n",
      "\n",
      "Cluster labels for K=28:\n",
      "unique labels :28\n",
      "[16 16 16 ... 17 17 22]\n",
      "\n",
      "Evaluation for Kmeans_K1:\n",
      "(Precision:0.6676279832065806) , (Recall:0.3311011904761905) , (F1-score:0.38775645028942174) , (Entropy:1.8229115975630263)\n",
      "\n",
      "Cluster labels for K=38:\n",
      "unique labels :38\n",
      "[20 20 20 ... 29 22 15]\n",
      "\n",
      "Evaluation for Kmeans_K1:\n",
      "(Precision:0.6438912446608508) , (Recall:0.27926260964912286) , (F1-score:0.3617335579254208) , (Entropy:1.4730292981213704)\n",
      "\n",
      "-------------Clustering using Kmeans --> flatten features with using PCA-------------\n",
      "Cluster labels for K=8:\n",
      "unique labels :8\n",
      "[4 4 4 ... 3 3 7]\n",
      "\n",
      "Evaluation for Kmeans_K2:\n",
      "(Precision:0.6011150159209232) , (Recall:0.8177083333333333) , (F1-score:0.5969928057551328) , (Entropy:2.3704014100691086)\n",
      "\n",
      "Cluster labels for K=13:\n",
      "unique labels :13\n",
      "[5 5 5 ... 3 7 3]\n",
      "\n",
      "Evaluation for Kmeans_K2:\n",
      "(Precision:0.6800826203996024) , (Recall:0.5296474358974359) , (F1-score:0.4457511444628395) , (Entropy:2.2684274866424463)\n",
      "\n",
      "Cluster labels for K=19:\n",
      "unique labels :19\n",
      "[ 5  5  5 ... 16 12 16]\n",
      "\n",
      "Evaluation for Kmeans_K2:\n",
      "(Precision:0.7309224285948929) , (Recall:0.47053179824561403) , (F1-score:0.4761778459934575) , (Entropy:2.011995568953717)\n",
      "\n",
      "Cluster labels for K=28:\n",
      "unique labels :28\n",
      "[ 8  8  8 ... 17 17 19]\n",
      "\n",
      "Evaluation for Kmeans_K2:\n",
      "(Precision:0.7121251942529215) , (Recall:0.33379836309523814) , (F1-score:0.3704056534245164) , (Entropy:1.8282876654473652)\n",
      "\n",
      "Cluster labels for K=38:\n",
      "unique labels :38\n",
      "[31 31 31 ... 13 13 28]\n",
      "\n",
      "Evaluation for Kmeans_K2:\n",
      "(Precision:0.7668281932541071) , (Recall:0.25904605263157887) , (F1-score:0.3303116531753913) , (Entropy:1.760499054498688)\n",
      "\n"
     ]
    }
   ],
   "source": [
    "# ###########################Train Set##########################\n",
    "print(\"######################Train set#################################\")\n",
    "print()\n",
    "print(\"--------------Clustering using Kmeans --> mean vectors--------------------\")\n",
    "for k in k_values:\n",
    "    K_labels1, centroids = kmeans_np(train_mean_vectors, k)\n",
    "    print(f\"Cluster labels for K={k}:\")\n",
    "    print(f\"unique labels :{len(np.unique(K_labels1, axis=0))}\")\n",
    "    print(K_labels1)\n",
    "    print()\n",
    "    precision_K1,recall_K1, f_measure_K1,entrophy_K1 = Evaluation(K_labels1 , train_labels)\n",
    "    print_eval(entrophy_K1,precision_K1,recall_K1, f_measure_K1,\"Kmeans_K1\")\n",
    "K_labels1, centroids = kmeans_np(train_mean_vectors, 19)\n",
    "precision_K1,recall_K1, f_measure_K1,entrophy_K1 = Evaluation(K_labels1 , train_labels)\n",
    "# Perform K-Means clustering for each K value using flatten features with using PCA\n",
    "print(\"-------------Clustering using Kmeans --> flatten features with using PCA-------------\")\n",
    "for k in k_values:\n",
    "    K_labels2, centroids = kmeans_np(train_reduced_flattened_features, k)\n",
    "    print(f\"Cluster labels for K={k}:\")\n",
    "    print(f\"unique labels :{len(np.unique(K_labels2, axis=0))}\")\n",
    "    print(K_labels2)\n",
    "    print()\n",
    "    precision_K2,recall_K2, f_measure_K2,entrophy_K2 = Evaluation(K_labels2 , train_labels)\n",
    "    print_eval(entrophy_K2,precision_K2,recall_K2, f_measure_K2,\"Kmeans_K2\")\n",
    "K_labels2, centroids = kmeans_np(train_reduced_flattened_features, 19)\n",
    "precision_K2,recall_K2, f_measure_K2,entrophy_K2 = Evaluation(K_labels2 , train_labels)\n",
    "    "
   ]
  },
  {
   "cell_type": "markdown",
   "metadata": {},
   "source": [
    "- **Kway N-cut clustring on k = 19 on mean vector and flatten data and collect the evaluation of train set**"
   ]
  },
  {
   "cell_type": "code",
   "execution_count": 37,
   "metadata": {},
   "outputs": [
    {
     "name": "stdout",
     "output_type": "stream",
     "text": [
      "----------------Clustering using N-cut --> mean vectors---------------\n",
      "Cluster labels for K=19:\n",
      "unique labels :19\n",
      "[6 6 6 ... 0 5 0]\n",
      "\n",
      "----------------Clustering using N-cut --> flatten features with using PCA---------------\n",
      "Cluster labels for K=19:\n",
      "unique labels :19\n",
      "[18 18 18 ...  9  9  3]\n",
      "\n"
     ]
    }
   ],
   "source": [
    "# Perform N-cut algorithm for k=19 using mean vectors\n",
    "print(\"----------------Clustering using N-cut --> mean vectors---------------\")\n",
    "N_labels1 = kways_normalized_cut(train_mean_vectors)\n",
    "print(f\"Cluster labels for K=19:\")\n",
    "print(f\"unique labels :{len(np.unique(N_labels1, axis=0))}\")\n",
    "print(N_labels1)\n",
    "print()\n",
    "#Evaluation\n",
    "precision_N1,recall_N1, f_measure_N1,entrophy_N1 = Evaluation(N_labels1 , train_labels)\n",
    "\n",
    "# # Perform N-cut algorithm for k=19 using flatten features with using PCA\n",
    "print(\"----------------Clustering using N-cut --> flatten features with using PCA---------------\")\n",
    "N_labels2 = kways_normalized_cut(train_reduced_flattened_features)\n",
    "print(\"Cluster labels for K=19:\")\n",
    "print(f\"unique labels :{len(np.unique(N_labels2, axis=0))}\" )\n",
    "print(N_labels2)\n",
    "print()\n",
    "#Evaluation\n",
    "precision_N2,recall_N2, f_measure_N2,entrophy_N2 = Evaluation(N_labels2 , train_labels)"
   ]
  },
  {
   "cell_type": "markdown",
   "metadata": {},
   "source": [
    "- **DBSCAN clustring on k = 19 on mean vector and flatten data and collect the evaluation of train set**"
   ]
  },
  {
   "cell_type": "code",
   "execution_count": 38,
   "metadata": {},
   "outputs": [
    {
     "name": "stdout",
     "output_type": "stream",
     "text": [
      "----------------Clustering using DBSCAN --> mean_vectors---------------\n",
      "Cluster labels:\n",
      "unique labels :472\n",
      "[1 1 1 ... 0 0 0]\n",
      "\n",
      "----------------Clustering using DBSCAN --> flatten features with using PCA---------------\n",
      "Cluster labels:\n",
      "unique labels :18\n",
      "[0 0 0 ... 0 0 0]\n",
      "\n"
     ]
    }
   ],
   "source": [
    "# Perform DBSCAN algorithm using mean_vectors\n",
    "print(\"----------------Clustering using DBSCAN --> mean_vectors---------------\")\n",
    "D_labels1 = dbscan(train_mean_vectors,1.5,5)\n",
    "print(\"Cluster labels:\")\n",
    "print(f\"unique labels :{len(np.unique(D_labels1, axis=0))}\" )\n",
    "print(D_labels1)\n",
    "print()\n",
    "#Evaluation\n",
    "precision_D1,recall_D1, f_measure_D1,entrophy_D1 = Evaluation(D_labels1 , train_labels)\n",
    "\n",
    "# Perform DBSCAN algorithm using flatten features with using PCA\n",
    "print(\"----------------Clustering using DBSCAN --> flatten features with using PCA---------------\")\n",
    "D_labels2 = dbscan(train_reduced_flattened_features,4,37)\n",
    "print(\"Cluster labels:\")\n",
    "print(f\"unique labels :{len(np.unique(D_labels2, axis=0))}\" )\n",
    "print(D_labels2)\n",
    "print()\n",
    "#Evaluation\n",
    "precision_D2,recall_D2, f_measure_D2,entrophy_D2 = Evaluation(D_labels2 , train_labels)"
   ]
  },
  {
   "cell_type": "markdown",
   "metadata": {},
   "source": [
    "- **print the evaluation results of train set**"
   ]
  },
  {
   "cell_type": "code",
   "execution_count": 39,
   "metadata": {},
   "outputs": [
    {
     "name": "stdout",
     "output_type": "stream",
     "text": [
      "Evaluation for Kmeans_K1:\n",
      "(Precision:0.575664162131431) , (Recall:0.4823190789473684) , (F1-score:0.46695937665106263) , (Entropy:1.9192127716069742)\n",
      "\n",
      "Evaluation for Kmeans_K2:\n",
      "(Precision:0.6740307354265782) , (Recall:0.5052083333333334) , (F1-score:0.49395625350864264) , (Entropy:1.8475238882834464)\n",
      "\n",
      "Evaluation for N-cut_N1:\n",
      "(Precision:0.6537057373535169) , (Recall:0.4385964912280701) , (F1-score:0.4670446385628755) , (Entropy:2.1673918733643296)\n",
      "\n",
      "Evaluation for N-cut_N2:\n",
      "(Precision:0.6312450809086224) , (Recall:0.44229714912280704) , (F1-score:0.46107077159757187) , (Entropy:2.1303239556081275)\n",
      "\n",
      "Evaluation for DBSCAN_1:\n",
      "(Precision:0.9948673862747873) , (Recall:0.03497969632768358) , (F1-score:0.06258103481925495) , (Entropy:0.5851833665717134)\n",
      "\n",
      "Evaluation for DBSCAN_2:\n",
      "(Precision:0.9476148016049932) , (Recall:0.13758680555555552) , (F1-score:0.1539285859011811) , (Entropy:3.8874284178463507)\n",
      "\n"
     ]
    }
   ],
   "source": [
    "print_eval(entrophy_K1,precision_K1,recall_K1, f_measure_K1,\"Kmeans_K1\")\n",
    "print_eval(entrophy_K2,precision_K2,recall_K2, f_measure_K2,\"Kmeans_K2\")\n",
    "print_eval(entrophy_N1,precision_N1,recall_N1, f_measure_N1,\"N-cut_N1\")\n",
    "print_eval(entrophy_N2,precision_N2,recall_N2, f_measure_N2,\"N-cut_N2\")\n",
    "print_eval(entrophy_D1,precision_D1,recall_D1, f_measure_D1,\"DBSCAN_1\")\n",
    "print_eval(entrophy_D2,precision_D2,recall_D2, f_measure_D2,\"DBSCAN_2\")\n",
    "###########################end of train set######################################"
   ]
  },
  {
   "cell_type": "markdown",
   "metadata": {},
   "source": [
    "#### **Making clustring on the test data using three algorithm**"
   ]
  },
  {
   "cell_type": "markdown",
   "metadata": {},
   "source": [
    "- **Kmean clustring on k = {8, 13, 19, 28, 38} on mean vector and flatten data and collect the evaluation of test set**"
   ]
  },
  {
   "cell_type": "code",
   "execution_count": 44,
   "metadata": {},
   "outputs": [
    {
     "name": "stdout",
     "output_type": "stream",
     "text": [
      "###################### Test set #################################\n",
      "\n",
      "--------------Clustering using Kmeans --> mean vectors--------------------\n",
      "Cluster labels for K=8:\n",
      "unique labels :8\n",
      "[3 3 3 ... 7 7 7]\n",
      "\n",
      "Evaluation for Kmeans_1:\n",
      "(Precision:0.3629376498595574) , (Recall:0.65234375) , (F1-score:0.40801603254817315) , (Entropy:2.5671860049933612)\n",
      "\n",
      "Cluster labels for K=13:\n",
      "unique labels :13\n",
      "[10 10 10 ...  1  1  1]\n",
      "\n",
      "Evaluation for Kmeans_1:\n",
      "(Precision:0.5260297784805549) , (Recall:0.6394230769230769) , (F1-score:0.545865462902639) , (Entropy:2.072674640630969)\n",
      "\n",
      "Cluster labels for K=19:\n",
      "unique labels :19\n",
      "[15 15 15 ...  9  9  9]\n",
      "\n",
      "Evaluation for Kmeans_1:\n",
      "(Precision:0.5974155669213266) , (Recall:0.45175438596491224) , (F1-score:0.42666131163185655) , (Entropy:1.9307524730158145)\n",
      "\n",
      "Cluster labels for K=28:\n",
      "unique labels :28\n",
      "[13 13 13 ...  1  1  1]\n",
      "\n",
      "Evaluation for Kmeans_1:\n",
      "(Precision:0.6393693509289341) , (Recall:0.36867559523809523) , (F1-score:0.43764459747730733) , (Entropy:1.5817745851549443)\n",
      "\n",
      "Cluster labels for K=38:\n",
      "unique labels :38\n",
      "[25 25 25 ... 31 31 31]\n",
      "\n",
      "Evaluation for Kmeans_1:\n",
      "(Precision:0.6747927592681724) , (Recall:0.27247807017543857) , (F1-score:0.3425638888731517) , (Entropy:1.4960249997908295)\n",
      "\n",
      "-------------Clustering using Kmeans --> flatten features with using PCA-------------\n",
      "Cluster labels for K=8:\n",
      "unique labels :8\n",
      "[3 3 3 ... 1 1 1]\n",
      "\n",
      "Evaluation for Kmeans_2:\n",
      "(Precision:0.561491472968529) , (Recall:0.8515624999999999) , (F1-score:0.6009554734153006) , (Entropy:2.3608567272092995)\n",
      "\n",
      "Cluster labels for K=13:\n",
      "unique labels :13\n",
      "[ 0  0  0 ... 10 10 10]\n",
      "\n",
      "Evaluation for Kmeans_2:\n",
      "(Precision:0.6370110304936087) , (Recall:0.5713141025641025) , (F1-score:0.4939515164702349) , (Entropy:2.239247501599458)\n",
      "\n",
      "Cluster labels for K=19:\n",
      "unique labels :19\n",
      "[12 12 12 ...  4 15 15]\n",
      "\n",
      "Evaluation for Kmeans_2:\n",
      "(Precision:0.6432979947154108) , (Recall:0.3991228070175439) , (F1-score:0.3640097220055921) , (Entropy:2.171385392182431)\n",
      "\n",
      "Cluster labels for K=28:\n",
      "unique labels :28\n",
      "[7 7 7 ... 4 8 8]\n",
      "\n",
      "Evaluation for Kmeans_2:\n",
      "(Precision:0.7404222209758495) , (Recall:0.3604910714285715) , (F1-score:0.4133695203366533) , (Entropy:1.7302135570528538)\n",
      "\n",
      "Cluster labels for K=38:\n",
      "unique labels :38\n",
      "[17 17 17 ...  1  9  9]\n",
      "\n",
      "Evaluation for Kmeans_2:\n",
      "(Precision:0.7309082020715215) , (Recall:0.2606907894736842) , (F1-score:0.3290607655166319) , (Entropy:1.662024472222073)\n",
      "\n"
     ]
    }
   ],
   "source": [
    "######################test set#################################\n",
    "print(\"###################### Test set #################################\")\n",
    "print()\n",
    "print(\"--------------Clustering using Kmeans --> mean vectors--------------------\")\n",
    "for k in k_values:\n",
    "    K_labels1, centroids = kmeans_np(test_mean_vectors, k)\n",
    "    print(f\"Cluster labels for K={k}:\")\n",
    "    print(f\"unique labels :{len(np.unique(K_labels1, axis=0))}\")\n",
    "    print(K_labels1)\n",
    "    print()\n",
    "#Evaluation\n",
    "    precision_K1,recall_K1, f_measure_K1,entrophy_K1 = Evaluation(K_labels1 , test_labels)\n",
    "    print_eval(entrophy_K1,precision_K1,recall_K1, f_measure_K1,\"Kmeans_1\")\n",
    "K_labels1, centroids = kmeans_np(test_mean_vectors, 19)\n",
    "precision_K1,recall_K1, f_measure_K1,entrophy_K1 = Evaluation(K_labels1 , test_labels)\n",
    "# Perform K-Means clustering for each K value using flatten features with using PCA\n",
    "print(\"-------------Clustering using Kmeans --> flatten features with using PCA-------------\")\n",
    "for k in k_values:\n",
    "    K_labels2, centroids = kmeans_np(test_reduced_flattened_features, k)\n",
    "    print(f\"Cluster labels for K={k}:\")\n",
    "    print(f\"unique labels :{len(np.unique(K_labels2, axis=0))}\")\n",
    "    print(K_labels2)\n",
    "    print()\n",
    "#Evaluation\n",
    "    precision_K2,recall_K2, f_measure_K2,entrophy_K2 = Evaluation(K_labels2 , test_labels)\n",
    "    print_eval(entrophy_K2,precision_K2,recall_K2, f_measure_K2,\"Kmeans_2\")\n",
    "K_labels2, centroids = kmeans_np(test_reduced_flattened_features, 19)\n",
    "precision_K2,recall_K2, f_measure_K2,entrophy_K2 = Evaluation(K_labels2 , test_labels)"
   ]
  },
  {
   "cell_type": "markdown",
   "metadata": {},
   "source": [
    "- **Kway N-cut clustring on k = 19 on mean vector and flatten data and collect the evaluation of test set**"
   ]
  },
  {
   "cell_type": "code",
   "execution_count": 41,
   "metadata": {},
   "outputs": [
    {
     "name": "stdout",
     "output_type": "stream",
     "text": [
      "----------------Clustering using N-cut --> mean vectors---------------\n",
      "Cluster labels for K=19:\n",
      "unique labels :19\n",
      "[11 11 11 ... 16 16 16]\n",
      "\n",
      "----------------Clustering using N-cut --> flatten features with using PCA---------------\n",
      "Cluster labels for K=19:\n",
      "unique labels :19\n",
      "[ 8  8  8 ... 15 15 15]\n",
      "\n"
     ]
    }
   ],
   "source": [
    "# Perform N-cut algorithm for k=19 using mean vectors\n",
    "print(\"----------------Clustering using N-cut --> mean vectors---------------\")\n",
    "N_labels1 = kways_normalized_cut(test_mean_vectors)\n",
    "print(f\"Cluster labels for K=19:\")\n",
    "print(f\"unique labels :{len(np.unique(N_labels1, axis=0))}\")\n",
    "print(N_labels1)\n",
    "print()\n",
    "#Evaluation\n",
    "precision_N1,recall_N1, f_measure_N1,entrophy_N1 = Evaluation(N_labels1 , test_labels)\n",
    "\n",
    "# Perform N-cut algorithm for k=19 using flatten features with using PCA\n",
    "print(\"----------------Clustering using N-cut --> flatten features with using PCA---------------\")\n",
    "N_labels2 = kways_normalized_cut(test_reduced_flattened_features)\n",
    "print(\"Cluster labels for K=19:\")\n",
    "print(f\"unique labels :{len(np.unique(N_labels2, axis=0))}\" )\n",
    "print(N_labels2)\n",
    "print()\n",
    "#Evaluation\n",
    "precision_N2,recall_N2, f_measure_N2,entrophy_N2 = Evaluation(N_labels2 , test_labels)"
   ]
  },
  {
   "cell_type": "markdown",
   "metadata": {},
   "source": [
    "- **DBSCAN clustring on k = 19 on mean vector and flatten data and collect the evaluation of test set**"
   ]
  },
  {
   "cell_type": "code",
   "execution_count": 42,
   "metadata": {},
   "outputs": [
    {
     "name": "stdout",
     "output_type": "stream",
     "text": [
      "----------------Clustering using DBSCAN --> mean_vectors---------------\n",
      "Cluster labels:\n",
      "unique labels :19\n",
      "[0 0 0 ... 0 0 0]\n",
      "\n",
      "----------------Clustering using DBSCAN --> flatten features with using PCA---------------\n",
      "Cluster labels:\n",
      "unique labels :20\n",
      "[1 1 1 ... 0 0 0]\n",
      "\n"
     ]
    }
   ],
   "source": [
    "# Perform DBSCAN algorithm using mean_vectors\n",
    "print(\"----------------Clustering using DBSCAN --> mean_vectors---------------\")\n",
    "D_labels1 = dbscan(test_mean_vectors,0.1,9)\n",
    "print(\"Cluster labels:\")\n",
    "print(f\"unique labels :{len(np.unique(D_labels1, axis=0))}\" )\n",
    "print(D_labels1)\n",
    "print()\n",
    "#Evaluation\n",
    "precision_D1,recall_D1, f_measure_D1,entrophy_D1 = Evaluation(D_labels1 , test_labels)\n",
    "\n",
    "# Perform DBSCAN algorithm using flatten features with using PCA\n",
    "print(\"----------------Clustering using DBSCAN --> flatten features with using PCA---------------\")\n",
    "D_labels2 = dbscan(test_reduced_flattened_features,3,11)\n",
    "print(\"Cluster labels:\")\n",
    "print(f\"unique labels :{len(np.unique(D_labels2, axis=0))}\" )\n",
    "print(D_labels2)\n",
    "print()\n",
    "# Evaluation\n",
    "precision_D2,recall_D2, f_measure_D2,entrophy_D2 = Evaluation(D_labels2 , test_labels)"
   ]
  },
  {
   "cell_type": "markdown",
   "metadata": {},
   "source": [
    "- **print the evaluation results of test set**"
   ]
  },
  {
   "cell_type": "code",
   "execution_count": 45,
   "metadata": {},
   "outputs": [
    {
     "name": "stdout",
     "output_type": "stream",
     "text": [
      "Evaluation for Kmeans_1:\n",
      "(Precision:0.5813862346295141) , (Recall:0.47368421052631576) , (F1-score:0.4746247942551629) , (Entropy:1.8794018795884078)\n",
      "\n",
      "Evaluation for Kmeans_2:\n",
      "(Precision:0.718053970485348) , (Recall:0.46381578947368424) , (F1-score:0.4524245213067192) , (Entropy:1.9437960991296688)\n",
      "\n",
      "Evaluation for N-cut_1:\n",
      "(Precision:0.5267982912147551) , (Recall:0.5202850877192983) , (F1-score:0.5143769688415023) , (Entropy:1.7024882224756412)\n",
      "\n",
      "Evaluation for N-cut_2:\n",
      "(Precision:0.4905853300964837) , (Recall:0.4720394736842105) , (F1-score:0.46951631598127064) , (Entropy:1.905850733061385)\n",
      "\n",
      "Evaluation for DBSCAN_1:\n",
      "(Precision:0.9504066841788777) , (Recall:0.14089912280701755) , (F1-score:0.16450393073253378) , (Entropy:3.8295050337378544)\n",
      "\n",
      "Evaluation for DBSCAN_2:\n",
      "(Precision:0.9530075187969924) , (Recall:0.16875) , (F1-score:0.2167848699763594) , (Entropy:3.640348783217787)\n",
      "\n"
     ]
    }
   ],
   "source": [
    "# print the evaluation\n",
    "print_eval(entrophy_K1,precision_K1,recall_K1, f_measure_K1,\"Kmeans_1\")\n",
    "print_eval(entrophy_K2,precision_K2,recall_K2, f_measure_K2,\"Kmeans_2\")\n",
    "print_eval(entrophy_N1,precision_N1,recall_N1, f_measure_N1,\"N-cut_1\")\n",
    "print_eval(entrophy_N2,precision_N2,recall_N2, f_measure_N2,\"N-cut_2\")\n",
    "print_eval(entrophy_D1,precision_D1,recall_D1, f_measure_D1,\"DBSCAN_1\")\n",
    "print_eval(entrophy_D2,precision_D2,recall_D2, f_measure_D2,\"DBSCAN_2\")\n",
    "###########################end of test set#####################################"
   ]
  },
  {
   "cell_type": "markdown",
   "metadata": {},
   "source": [
    "# **Comparison**"
   ]
  },
  {
   "attachments": {
    "Screenshot 2024-03-27 180734.png": {
     "image/png": "[encoded data removed]"
    }
   },
   "cell_type": "markdown",
   "metadata": {},
   "source": [
    "![Screenshot 2024-03-27 180734.png](<attachment:Screenshot 2024-03-27 180734.png>)"
   ]
  },
  {
   "attachments": {
    "image.png": {
     "image/png": "[encoded data removed]"
    }
   },
   "cell_type": "markdown",
   "metadata": {},
   "source": [
    "![image.png](attachment:image.png)"
   ]
  },
  {
   "attachments": {
    "image.png": {
     "image/png": "[encoded data removed]"
    }
   },
   "cell_type": "markdown",
   "metadata": {},
   "source": [
    "![image.png](attachment:image.png)"
   ]
  },
  {
   "cell_type": "markdown",
   "metadata": {},
   "source": [
    "# **The End**"
   ]
  }
 ],
 "metadata": {
  "kernelspec": {
   "display_name": "Python 3",
   "language": "python",
   "name": "python3"
  },
  "language_info": {
   "codemirror_mode": {
    "name": "ipython",
    "version": 3
   },
   "file_extension": ".py",
   "mimetype": "text/x-python",
   "name": "python",
   "nbconvert_exporter": "python",
   "pygments_lexer": "ipython3",
   "version": "3.11.1"
  }
 },
 "nbformat": 4,
 "nbformat_minor": 2
}
